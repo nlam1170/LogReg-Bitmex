{
 "cells": [
  {
   "cell_type": "code",
   "execution_count": 2,
   "metadata": {},
   "outputs": [
    {
     "name": "stdout",
     "output_type": "stream",
     "text": [
      "importing Jupyter notebook from custom.ipynb\n"
     ]
    }
   ],
   "source": [
    "from pymongo import MongoClient\n",
    "import torch\n",
    "import torch.nn as nn\n",
    "from torch.utils.data import Dataset\n",
    "from torchvision import transforms\n",
    "import numpy as np\n",
    "\n",
    "import import_ipynb\n",
    "from custom import LogReg, MongoDataset, Normalize"
   ]
  },
  {
   "cell_type": "code",
   "execution_count": null,
   "metadata": {},
   "outputs": [],
   "source": [
    "def get_mean(connect_url):\n",
    "    client = MongoClient(connect_url)\n",
    "    db = client.bitmex\n",
    "    cursor = db.training_data.aggregate([{\n",
    "        \"$group\":{\n",
    "            \"_id\": None,\n",
    "            \"avg_funding\": { \"$avg\": \"$funding\" },\n",
    "            \"avg_oi\": { \"$avg\": \"$oi\" },\n",
    "            \"avg_ema\": { \"$avg\": \"$ema\" },\n",
    "            \"avg_vol\": { \"$avg\": { \"$ln\": \"$vol\" } }\n",
    "        }\n",
    "    }])\n",
    "    #get cursor into a list\n",
    "    avgs = list(cursor)\n",
    "    avg_funding = avgs[0][\"avg_funding\"]\n",
    "    avg_oi = avgs[0][\"avg_oi\"]\n",
    "    avg_ema = avgs[0][\"avg_ema\"]\n",
    "    avg_vol = avgs[0][\"avg_vol\"]\n",
    "\n",
    "    return (avg_funding, avg_oi, avg_ema, avg_vol)"
   ]
  },
  {
   "cell_type": "code",
   "execution_count": null,
   "metadata": {},
   "outputs": [],
   "source": [
    "def get_std(connect_url):\n",
    "    client = MongoClient(connect_url)\n",
    "    db = client.bitmex\n",
    "    cursor = db.training_data.aggregate([{\n",
    "        \"$group\":{\n",
    "            \"_id\": None,\n",
    "            \"std_funding\": { \"$stdDevPop\": \"$funding\" },\n",
    "            \"std_oi\": { \"$stdDevPop\": \"$oi\" },\n",
    "            \"std_ema\": { \"$stdDevPop\": \"$ema\" },\n",
    "            \"std_vol\": { \"$stdDevPop\": { \"$ln\": \"$vol\" } }\n",
    "        }\n",
    "    }])\n",
    "    stds = list(cursor)\n",
    "    std_funding = stds[0][\"std_funding\"]\n",
    "    std_oi = stds[0][\"std_oi\"]\n",
    "    std_ema = stds[0][\"std_ema\"]\n",
    "    std_vol = stds[0][\"std_vol\"]\n",
    "\n",
    "    return (std_funding, std_oi, std_ema, std_vol)"
   ]
  },
  {
   "cell_type": "code",
   "execution_count": null,
   "metadata": {},
   "outputs": [],
   "source": [
    "connect_url = r\"connect string"\n",
    "transform = transforms.Compose([\n",
    "    Normalize(get_mean(connect_url), get_std(connect_url)),\n",
    "    transforms.Lambda(lambda x: torch.from_numpy(x).float())\n",
    "])\n",
    "dataset = MongoDataset(connect_url, transform)"
   ]
  },
  {
   "cell_type": "code",
   "execution_count": null,
   "metadata": {},
   "outputs": [],
   "source": [
    "device = torch.device(\"cuda\" if torch.cuda.is_available() else \"cpu\")\n",
    "model = LogReg()\n",
    "model = model.to(device)\n",
    "\n",
    "criterion = nn.BCEWithLogitsLoss()\n",
    "\n",
    "learning_rate = 0.01\n",
    "optimizer = torch.optim.SGD(model.parameters(), lr=learning_rate, momentum=0.9)"
   ]
  },
  {
   "cell_type": "code",
   "execution_count": null,
   "metadata": {},
   "outputs": [],
   "source": [
    "def train(num_epoch):\n",
    "    model.train()\n",
    "    \n",
    "    for epoch in range(num_epoch):\n",
    "        for i in range(len(dataset)):\n",
    "            \n",
    "            data_tensor, result = dataset[i]\n",
    "            data_tensor, result = data_tensor.to(device), result.to(device)\n",
    "            \n",
    "            optimizer.zero_grad()\n",
    "            \n",
    "            output = model(data_tensor)\n",
    "            loss = criterion(output, result)\n",
    "            loss.backward()\n",
    "            optimizer.step()\n",
    "            \n",
    "            if i % 200 == 0:\n",
    "                print(\"done training for data point\", i, \"out of\", len(dataset))\n",
    "            \n",
    "    \n",
    "    print(\"done training for\", epoch, \"out of\", num_epoch)          "
   ]
  },
  {
   "cell_type": "code",
   "execution_count": null,
   "metadata": {},
   "outputs": [],
   "source": [
    "def predict(data_tensor):\n",
    "    model.eval()\n",
    "    with torch.no_grad():\n",
    "        data_tensor = data_tensor.to(device)\n",
    "        ouput = model(data_tensor)\n",
    "        if ouput[0] > 0.8:\n",
    "            print(\"BUY\")\n",
    "        if output[0] < 0.2:\n",
    "            print(\"SELL\")\n",
    "        else:\n",
    "            print(\"DO NOTHING \")"
   ]
  }
 ],
 "metadata": {
  "kernelspec": {
   "display_name": "Python 3",
   "language": "python",
   "name": "python3"
  },
  "language_info": {
   "codemirror_mode": {
    "name": "ipython",
    "version": 3
   },
   "file_extension": ".py",
   "mimetype": "text/x-python",
   "name": "python",
   "nbconvert_exporter": "python",
   "pygments_lexer": "ipython3",
   "version": "3.7.6"
  }
 },
 "nbformat": 4,
 "nbformat_minor": 4
}
