{
 "cells": [
  {
   "cell_type": "code",
   "execution_count": null,
   "metadata": {},
   "outputs": [],
   "source": [
    "import aiohttp\n",
    "import orjson\n",
    "import asyncio\n",
    "import requests"
   ]
  },
  {
   "cell_type": "code",
   "execution_count": null,
   "metadata": {},
   "outputs": [],
   "source": [
    "async def connect_bitmex():\n",
    "    bitmex_url = r\"wss://www.bitmex.com/realtime\"\n",
    "    session = aiohttp.ClientSession(json_serialize=orjson.dumps)\n",
    "    ws = await session.ws_connect(url=bitmex_url)\n",
    "    connect_msg = await ws.receive_json(loads=orjson.loads)\n",
    "    del(connect_msg)\n",
    "    return ws"
   ]
  },
  {
   "cell_type": "code",
   "execution_count": null,
   "metadata": {},
   "outputs": [],
   "source": [
    "async def get_data(ws, command):\n",
    "    await ws.send_json(command)\n",
    "    connect_msg = await ws.receive_json(loads=orjson.loads)\n",
    "    resp = await ws.receive_json(loads=orjson.loads)\n",
    "    del(connect_msg)\n",
    "    return resp"
   ]
  },
  {
   "cell_type": "code",
   "execution_count": null,
   "metadata": {},
   "outputs": [],
   "source": [
    "async def get_funding(ws):\n",
    "    command = {\n",
    "        \"op\": \"subscribe\",\n",
    "        \"args\": \"funding:XBTUSD\"\n",
    "    }\n",
    "    resp = await get_data(ws, command)\n",
    "    return resp[\"data\"][0][\"fundingRate\"]"
   ]
  },
  {
   "cell_type": "code",
   "execution_count": null,
   "metadata": {},
   "outputs": [],
   "source": [
    "async def get_price(ws):\n",
    "    command = {\n",
    "        \"op\": \"subscribe\",\n",
    "        \"args\": \"quote:XBTUSD\"\n",
    "    }\n",
    "    resp = await get_data(ws, command)\n",
    "    return resp[\"data\"][0][\"askPrice\"]"
   ]
  },
  {
   "cell_type": "code",
   "execution_count": null,
   "metadata": {},
   "outputs": [],
   "source": [
    "async def get_oi():\n",
    "    oi_url = r\"https://www.bitmex.com/api/v1/instrument?symbol=XBTUSD&count=1&reverse=true\"\n",
    "    resp = orjson.loads(requests.get(oi_url).text)\n",
    "    return resp[0][\"openInterest\"]"
   ]
  },
  {
   "cell_type": "code",
   "execution_count": null,
   "metadata": {},
   "outputs": [],
   "source": [
    "async def get_vol():\n",
    "    vol_url = r\"https://www.bitmex.com/api/v1/instrument?symbol=XBTUSD&count=1&reverse=true\"\n",
    "    resp = orjson.loads(requests.get(vol_url).text)\n",
    "    return resp[0][\"volume\"]"
   ]
  },
  {
   "cell_type": "code",
   "execution_count": null,
   "metadata": {},
   "outputs": [],
   "source": [
    "async def get_time():\n",
    "    timestamp_url = r\"https://www.bitmex.com/api/v1/instrument?symbol=XBTUSD&count=1&reverse=true\"\n",
    "    resp = orjson.loads(requests.get(timestamp_url).text)\n",
    "    return resp[0][\"timestamp\"]"
   ]
  },
  {
   "cell_type": "code",
   "execution_count": null,
   "metadata": {},
   "outputs": [],
   "source": [
    "async def db_data():\n",
    "    ws = await connect_bitmex()\n",
    "    funding = await get_funding(ws)\n",
    "    oi = await get_oi()\n",
    "    vol = await get_vol()\n",
    "    price = await get_price(ws)\n",
    "    time = await get_time()\n",
    "\n",
    "\n",
    "    info = {\n",
    "        \"time\": time,\n",
    "        \"funding\": funding,\n",
    "        \"oi\" : oi,\n",
    "        \"vol\" : vol,\n",
    "        \"price\" : price,\n",
    "    }\n",
    "\n",
    "    await ws.close()\n",
    "    return info"
   ]
  },
  {
   "cell_type": "code",
   "execution_count": null,
   "metadata": {},
   "outputs": [],
   "source": []
  }
 ],
 "metadata": {
  "kernelspec": {
   "display_name": "Python 3",
   "language": "python",
   "name": "python3"
  },
  "language_info": {
   "codemirror_mode": {
    "name": "ipython",
    "version": 3
   },
   "file_extension": ".py",
   "mimetype": "text/x-python",
   "name": "python",
   "nbconvert_exporter": "python",
   "pygments_lexer": "ipython3",
   "version": "3.7.6"
  }
 },
 "nbformat": 4,
 "nbformat_minor": 4
}
