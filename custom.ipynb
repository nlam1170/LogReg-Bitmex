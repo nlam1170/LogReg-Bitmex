{
 "cells": [
  {
   "cell_type": "code",
   "execution_count": 1,
   "metadata": {},
   "outputs": [],
   "source": [
    "import torch\n",
    "import torch.nn as nn\n",
    "from torch.utils.data import Dataset\n",
    "import numpy as np\n",
    "from pymongo import MongoClient"
   ]
  },
  {
   "cell_type": "code",
   "execution_count": 2,
   "metadata": {},
   "outputs": [],
   "source": [
    "class LogReg(nn.Module):\n",
    "    def __init__(self):\n",
    "        super(LogReg, self).__init__()\n",
    "        self.lin1 = nn.Linear(4, 1)\n",
    "        self.sig1 = nn.Sigmoid()\n",
    "    \n",
    "    def forward(self, x):\n",
    "        x = self.lin1(x)\n",
    "        y = self.sig1(x)\n",
    "        return y"
   ]
  },
  {
   "cell_type": "code",
   "execution_count": 3,
   "metadata": {},
   "outputs": [],
   "source": [
    "class MongoDataset(Dataset):\n",
    "    def __init__(self, connect_url, transform=None):\n",
    "        self.connect_url = connect_url\n",
    "        self.client = MongoClient(connect_url)\n",
    "        self.db = self.client.bitmex\n",
    "        self.transform = transform\n",
    "    \n",
    "    def __len__(self):\n",
    "        return self.db.training_data.count_documents({})\n",
    "        \n",
    "\n",
    "    def __getitem__(self, index):\n",
    "        current_data = self.db.training_data.find().skip(index).limit(1)\n",
    "        result = np.array([])\n",
    "        answer = np.array([])\n",
    "       \n",
    "        result = np.append(result, current_data[0][\"funding\"])\n",
    "        result = np.append(result, current_data[0][\"oi\"])\n",
    "        result = np.append(result, current_data[0][\"ema\"])\n",
    "        result = np.append(result, np.log(current_data[0][\"vol\"]))\n",
    "        answer = np.append(answer, current_data[0][\"result\"])\n",
    "\n",
    "        # pylint: disable=E1101\n",
    "        return self.transform(result), torch.from_numpy(answer).float()"
   ]
  },
  {
   "cell_type": "code",
   "execution_count": 4,
   "metadata": {},
   "outputs": [],
   "source": [
    "class Normalize(object):\n",
    "    def __init__(self, mean, std, inplace=False):\n",
    "        self.mean = mean\n",
    "        self.std = std\n",
    "        self.inplace = inplace\n",
    "\n",
    "    def __call__(self, ndarray):\n",
    "        answer = np.array([])\n",
    "        for i in range(ndarray.size):\n",
    "            normal = (ndarray[i] - self.mean[i]) / self.std[i]\n",
    "            answer = np.append(answer, normal)\n",
    "        return answer"
   ]
  },
  {
   "cell_type": "code",
   "execution_count": null,
   "metadata": {},
   "outputs": [],
   "source": []
  }
 ],
 "metadata": {
  "kernelspec": {
   "display_name": "Python 3",
   "language": "python",
   "name": "python3"
  },
  "language_info": {
   "codemirror_mode": {
    "name": "ipython",
    "version": 3
   },
   "file_extension": ".py",
   "mimetype": "text/x-python",
   "name": "python",
   "nbconvert_exporter": "python",
   "pygments_lexer": "ipython3",
   "version": "3.7.6"
  }
 },
 "nbformat": 4,
 "nbformat_minor": 4
}
